{
 "cells": [
  {
   "cell_type": "code",
   "execution_count": 36,
   "metadata": {},
   "outputs": [],
   "source": [
    "import jieba\n",
    "import jieba.analyse"
   ]
  },
  {
   "cell_type": "code",
   "execution_count": 37,
   "metadata": {},
   "outputs": [],
   "source": [
    "def countAllWord(strlist):#輸入列表，輸出列表中詞頻\n",
    "    cutlist=[]\n",
    "    for i in strlist:\n",
    "        word=jieba.cut(i,cut_all=False)\n",
    "        cutlist.append(\" \".join(word))#存放分詞結果\n",
    "    cut_str=\" \".join(cutlist)#將分詞結果展開為字串\n",
    "    cutlist2=list(cut_str.split())#將各個詞都轉換為列表中的元素\n",
    "    report={}#定義字典存放詞頻\n",
    "    for i in cutlist2:\n",
    "        if i in report:#如果字典已有鍵值，則其值加1；沒有則新增鍵值並定義其值為1\n",
    "            report[i]=report[i]+1\n",
    "        else:\n",
    "            report[i]=1\n",
    "    return report"
   ]
  },
  {
   "cell_type": "code",
   "execution_count": 38,
   "metadata": {},
   "outputs": [
    {
     "name": "stderr",
     "output_type": "stream",
     "text": [
      "Building prefix dict from /Users/marina/Documents/GitHub/NLP_HW1/dict.txt.big ...\n",
      "Loading model from cache /var/folders/wf/26_5_j6173n3fyjcdd29_r3r0000gn/T/jieba.u679c42d08b25284bf1a3bc8ecfdc9e37.cache\n",
      "Loading model cost 1.700 seconds.\n",
      "Prefix dict has been built successfully.\n"
     ]
    }
   ],
   "source": [
    "from collections import Counter\n",
    "jieba.set_dictionary('dict.txt.big')\n",
    "stopwords = [line.strip() for line in open(\"stop_words.txt\",encoding=\"utf-8\").readlines()]  \n",
    "text = open(\"dataset.txt\", encoding=\"utf-8\").read()\n",
    "words = jieba.lcut(text, cut_all=False)\n",
    "#print(word)\n",
    "#wordcount = Counter(word)\n",
    "#wordcount.most_common(100)"
   ]
  },
  {
   "cell_type": "code",
   "execution_count": 35,
   "metadata": {},
   "outputs": [
    {
     "name": "stdout",
     "output_type": "stream",
     "text": [
      "楓葉              5\n",
      "緩緩              4\n",
      "飄落              4\n",
      "思念              4\n",
      "北風              3\n",
      "傷透              2\n",
      "能不能夠            2\n",
      "繼續              2\n",
      "愛我              2\n",
      "用力              2\n",
      "牽起              2\n",
      "溫度              2\n",
      "雙手              2\n",
      "過往              2\n",
      "溫柔              2\n",
      "上鎖              2\n",
      "剩揮散             2\n",
      "難過              2\n",
      "點燃              2\n",
      "燭火              2\n",
      "溫暖              2\n",
      "歲末              2\n",
      "秋天              2\n",
      "極光              2\n",
      "掠奪              2\n",
      "天邊              2\n",
      "掠過              2\n",
      "容顏              2\n",
      "燒成              2\n",
      "落葉              2\n",
      "卻換              2\n",
      "不回              2\n",
      "熟悉              2\n",
      "張臉              2\n",
      "挽回              2\n",
      "冬天              2\n",
      "愛你              2\n",
      "穿越              2\n",
      "兩行              2\n",
      "來自              2\n",
      "秋末              2\n",
      "眼淚              2\n",
      "滲透              2\n",
      "地面              2\n",
      "我要              2\n",
      "身邊              2\n",
      "烏雲              1\n",
      "心裡              1\n",
      "擱下              1\n",
      "一塊              1\n",
      "陰影              1\n",
      "聆聽              1\n",
      "沉寂已久            1\n",
      "心情              1\n",
      "清晰              1\n",
      "透明              1\n",
      "美麗              1\n",
      "風景              1\n",
      "總在              1\n",
      "回憶              1\n",
      "裡才              1\n",
      "腰間              1\n",
      "飄逸              1\n",
      "紅雨              1\n",
      "隨著              1\n",
      "凋零              1\n",
      "輕輕              1\n",
      "搖曳              1\n",
      "風鈴              1\n",
      "喚醒              1\n",
      "被遺棄             1\n",
      "愛情              1\n",
      "雪花              1\n",
      "鋪滿              1\n",
      "深怕              1\n",
      "窗外              1\n",
      "結成              1\n"
     ]
    },
    {
     "ename": "IndexError",
     "evalue": "list index out of range",
     "output_type": "error",
     "traceback": [
      "\u001b[0;31m---------------------------------------------------------------------------\u001b[0m",
      "\u001b[0;31mIndexError\u001b[0m                                Traceback (most recent call last)",
      "\u001b[0;32m<ipython-input-35-362c77821a10>\u001b[0m in \u001b[0;36m<module>\u001b[0;34m\u001b[0m\n\u001b[1;32m     11\u001b[0m \u001b[0mitems\u001b[0m\u001b[0;34m.\u001b[0m\u001b[0msort\u001b[0m\u001b[0;34m(\u001b[0m\u001b[0mkey\u001b[0m\u001b[0;34m=\u001b[0m\u001b[0;32mlambda\u001b[0m \u001b[0mx\u001b[0m\u001b[0;34m:\u001b[0m\u001b[0mx\u001b[0m\u001b[0;34m[\u001b[0m\u001b[0;36m1\u001b[0m\u001b[0;34m]\u001b[0m\u001b[0;34m,\u001b[0m \u001b[0mreverse\u001b[0m\u001b[0;34m=\u001b[0m\u001b[0;32mTrue\u001b[0m\u001b[0;34m)\u001b[0m\u001b[0;34m\u001b[0m\u001b[0;34m\u001b[0m\u001b[0m\n\u001b[1;32m     12\u001b[0m \u001b[0;32mfor\u001b[0m \u001b[0mi\u001b[0m \u001b[0;32min\u001b[0m \u001b[0mrange\u001b[0m\u001b[0;34m(\u001b[0m\u001b[0;36m100\u001b[0m\u001b[0;34m)\u001b[0m\u001b[0;34m:\u001b[0m\u001b[0;34m\u001b[0m\u001b[0;34m\u001b[0m\u001b[0m\n\u001b[0;32m---> 13\u001b[0;31m     \u001b[0mword\u001b[0m\u001b[0;34m,\u001b[0m \u001b[0mcount\u001b[0m \u001b[0;34m=\u001b[0m \u001b[0mitems\u001b[0m\u001b[0;34m[\u001b[0m\u001b[0mi\u001b[0m\u001b[0;34m]\u001b[0m\u001b[0;34m\u001b[0m\u001b[0;34m\u001b[0m\u001b[0m\n\u001b[0m\u001b[1;32m     14\u001b[0m     \u001b[0mprint\u001b[0m \u001b[0;34m(\u001b[0m\u001b[0;34m\"{:<10}{:>7}\"\u001b[0m\u001b[0;34m.\u001b[0m\u001b[0mformat\u001b[0m\u001b[0;34m(\u001b[0m\u001b[0mword\u001b[0m\u001b[0;34m,\u001b[0m \u001b[0mcount\u001b[0m\u001b[0;34m)\u001b[0m\u001b[0;34m)\u001b[0m\u001b[0;34m\u001b[0m\u001b[0;34m\u001b[0m\u001b[0m\n",
      "\u001b[0;31mIndexError\u001b[0m: list index out of range"
     ]
    }
   ],
   "source": [
    "counts = {}  \n",
    "for word in words:  \n",
    "    #不在停用詞表中  \n",
    "    if word not in stopwords:  \n",
    "        #不統計字數爲一的詞  \n",
    "        if len(word) == 1:  \n",
    "            continue  \n",
    "        else:  \n",
    "            counts[word] = counts.get(word,0) + 1  \n",
    "items = list(counts.items())  \n",
    "items.sort(key=lambda x:x[1], reverse=True)   \n",
    "for i in range(100):  \n",
    "    word, count = items[i]  \n",
    "    print (\"{:<10}{:>7}\".format(word, count))\n",
    "    \n",
    "keywords = jieba.analyse.extract_tags(count, topK=20, withWeight=True, allowPOS=('n','nr','ns'))"
   ]
  },
  {
   "cell_type": "code",
   "execution_count": null,
   "metadata": {},
   "outputs": [],
   "source": []
  },
  {
   "cell_type": "code",
   "execution_count": null,
   "metadata": {},
   "outputs": [],
   "source": []
  }
 ],
 "metadata": {
  "kernelspec": {
   "display_name": "Python 3",
   "language": "python",
   "name": "python3"
  },
  "language_info": {
   "codemirror_mode": {
    "name": "ipython",
    "version": 3
   },
   "file_extension": ".py",
   "mimetype": "text/x-python",
   "name": "python",
   "nbconvert_exporter": "python",
   "pygments_lexer": "ipython3",
   "version": "3.8.3"
  }
 },
 "nbformat": 4,
 "nbformat_minor": 4
}
