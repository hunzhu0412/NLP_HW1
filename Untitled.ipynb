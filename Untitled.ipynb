{
 "cells": [
  {
   "cell_type": "code",
   "execution_count": 36,
   "metadata": {},
   "outputs": [],
   "source": [
    "import jieba\n",
    "import jieba.analyse"
   ]
  },
  {
   "cell_type": "code",
   "execution_count": 37,
   "metadata": {},
   "outputs": [],
   "source": [
    "def countAllWord(strlist):#輸入列表，輸出列表中詞頻\n",
    "    cutlist=[]\n",
    "    for i in strlist:\n",
    "        word=jieba.cut(i,cut_all=False)\n",
    "        cutlist.append(\" \".join(word))#存放分詞結果\n",
    "    cut_str=\" \".join(cutlist)#將分詞結果展開為字串\n",
    "    cutlist2=list(cut_str.split())#將各個詞都轉換為列表中的元素\n",
    "    report={}#定義字典存放詞頻\n",
    "    for i in cutlist2:\n",
    "        if i in report:#如果字典已有鍵值，則其值加1；沒有則新增鍵值並定義其值為1\n",
    "            report[i]=report[i]+1\n",
    "        else:\n",
    "            report[i]=1\n",
    "    return report"
   ]
  },
  {
   "cell_type": "code",
   "execution_count": 38,
   "metadata": {},
   "outputs": [
    {
     "name": "stderr",
     "output_type": "stream",
     "text": [
      "Building prefix dict from /Users/marina/Documents/GitHub/NLP_HW1/dict.txt.big ...\n",
      "Loading model from cache /var/folders/wf/26_5_j6173n3fyjcdd29_r3r0000gn/T/jieba.u679c42d08b25284bf1a3bc8ecfdc9e37.cache\n",
      "Loading model cost 1.700 seconds.\n",
      "Prefix dict has been built successfully.\n"
     ]
    }
   ],
   "source": [
    "from collections import Counter\n",
    "jieba.set_dictionary('dict.txt.big')\n",
    "stopwords = [line.strip() for line in open(\"stop_words.txt\",encoding=\"utf-8\").readlines()]  \n",
    "text = open(\"dataset.txt\", encoding=\"utf-8\").read()\n",
    "words = jieba.lcut(text, cut_all=False)\n",
    "#print(word)\n",
    "#wordcount = Counter(word)\n",
    "#wordcount.most_common(100)"
   ]
  },
  {
   "cell_type": "code",
   "execution_count": 41,
   "metadata": {},
   "outputs": [
    {
     "name": "stdout",
     "output_type": "stream",
     "text": [
      "['楓葉', '緩緩', '飄落', '思念', '北風', '傷透', '能不能夠', '愛我', '用力', '牽起']\n"
     ]
    }
   ],
   "source": [
    "counts = {}  \n",
    "for word in words:  \n",
    "    #不在停用詞表中  \n",
    "    if word not in stopwords:  \n",
    "        #不統計字數爲一的詞  \n",
    "        if len(word) == 1:  \n",
    "            continue  \n",
    "        else:  \n",
    "            counts[word] = counts.get(word,0) + 1  \n",
    "items = list(counts.items())  \n",
    "items.sort(key=lambda x:x[1], reverse=True)   \n",
    "w= []\n",
    "c=[]\n",
    "for i in range(10):  \n",
    "    word, count = items[i]  \n",
    "    w.append(word)\n",
    "    c.append(count)\n",
    "print(w)"
   ]
  },
  {
   "cell_type": "code",
   "execution_count": null,
   "metadata": {},
   "outputs": [],
   "source": []
  },
  {
   "cell_type": "code",
   "execution_count": null,
   "metadata": {},
   "outputs": [],
   "source": []
  }
 ],
 "metadata": {
  "kernelspec": {
   "display_name": "Python 3",
   "language": "python",
   "name": "python3"
  },
  "language_info": {
   "codemirror_mode": {
    "name": "ipython",
    "version": 3
   },
   "file_extension": ".py",
   "mimetype": "text/x-python",
   "name": "python",
   "nbconvert_exporter": "python",
   "pygments_lexer": "ipython3",
   "version": "3.8.3"
  }
 },
 "nbformat": 4,
 "nbformat_minor": 4
}
