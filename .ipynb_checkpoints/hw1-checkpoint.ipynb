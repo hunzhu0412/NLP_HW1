{
 "cells": [
  {
   "cell_type": "code",
   "execution_count": 18,
   "metadata": {},
   "outputs": [],
   "source": [
    "import jieba\n",
    "import jieba.analyse\n",
    "import math\n",
    "from collections import Counter"
   ]
  },
  {
   "cell_type": "code",
   "execution_count": 19,
   "metadata": {},
   "outputs": [
    {
     "name": "stderr",
     "output_type": "stream",
     "text": [
      "Building prefix dict from /Users/marina/Documents/GitHub/NLP_HW1/dict.txt.big ...\n",
      "Loading model from cache /var/folders/wf/26_5_j6173n3fyjcdd29_r3r0000gn/T/jieba.u679c42d08b25284bf1a3bc8ecfdc9e37.cache\n"
     ]
    },
    {
     "name": "stdout",
     "output_type": "stream",
     "text": [
      "['烏雲在我們心裡擱下一塊陰影', '我聆聽沉寂已久的心情', '清晰透明 就像美麗的風景', '總在回憶裡才看的清', '被傷透的心能不能夠繼續愛我', '我用力牽起沒溫度的雙手', '過往溫柔已經被時間上鎖', '只剩揮散不去的難過', '緩緩飄落的楓葉像思念', '我點燃燭火溫暖歲末的秋天', '極光掠奪天邊 北風掠過想你的容顏', '我把愛燒成了落葉', '卻換不回熟悉的那張臉', '緩緩飄落的楓葉像思念', '為何挽回要趕在冬天來之前', '愛你穿越時間 兩行來自秋末的眼淚', '讓愛滲透了地面', '我要的只是你在我身邊', '被傷透的心能不能夠繼續愛我', '我用力牽起沒溫度的雙手', '過往溫柔已經被時間上鎖', '只剩揮散不去的難過', '在山腰間飄逸的紅雨', '隨著北風凋零 我輕輕搖曳風鈴', '想 喚醒被遺棄的愛情', '雪花已鋪滿了地 深怕窗外楓葉已結成冰', '緩緩飄落的楓葉像思念', '我點燃燭火溫暖歲末的秋天', '極光掠奪天邊 北風掠過想你的容顏', '我把愛燒成了落葉', '卻換不回熟悉的那張臉', '緩緩飄落的楓葉像思念', '為何挽回要趕在冬天來之前', '愛你穿越時間 兩行來自秋末的眼淚', '讓愛滲透了地面', '我要的只是你在我身邊']\n"
     ]
    },
    {
     "name": "stderr",
     "output_type": "stream",
     "text": [
      "Loading model cost 1.167 seconds.\n",
      "Prefix dict has been built successfully.\n"
     ]
    },
    {
     "name": "stdout",
     "output_type": "stream",
     "text": [
      "[['烏雲', '擱下', '一塊', '陰影'], ['聆聽', '沉寂已久', '心情'], ['清晰', '透明', '美麗', '風景'], ['總在', '回憶', '裡才', '清'], ['傷透', '心', '能不能夠', '愛我'], ['用力', '牽起', '溫度', '雙手'], ['過往', '溫柔', '上鎖'], ['剩揮散', '難過'], ['緩緩', '飄落', '楓葉', '思念'], ['點燃', '燭火', '溫暖', '歲末', '秋天'], ['極光', '掠奪', '天邊', '北風', '掠過', '想', '容顏'], ['愛', '燒成', '落葉'], ['卻換', '不回', '熟悉', '張臉'], ['緩緩', '飄落', '楓葉', '思念'], ['挽回', '冬天'], ['愛你', '穿越', '兩行', '秋末', '眼淚'], ['愛', '滲透', '地面'], ['我要', '身邊'], ['傷透', '心', '能不能夠', '愛我'], ['用力', '牽起', '溫度', '雙手'], ['過往', '溫柔', '上鎖'], ['剩揮散', '難過'], ['山', '腰間', '飄逸', '紅雨'], ['北風', '凋零', '輕輕', '搖曳', '風鈴'], ['想', '喚醒', '被遺棄', '愛情'], ['雪花', '鋪滿', '深怕', '窗外', '楓葉', '結成', '冰'], ['緩緩', '飄落', '楓葉', '思念'], ['點燃', '燭火', '溫暖', '歲末', '秋天'], ['極光', '掠奪', '天邊', '北風', '掠過', '想', '容顏'], ['愛', '燒成', '落葉'], ['卻換', '不回', '熟悉', '張臉'], ['緩緩', '飄落', '楓葉', '思念'], ['挽回', '冬天'], ['愛你', '穿越', '兩行', '秋末', '眼淚'], ['愛', '滲透', '地面'], ['我要', '身邊']]\n"
     ]
    }
   ],
   "source": [
    "with open(\"dataset.txt\", \"r\") as fd:\n",
    "    data = fd.read().splitlines()\n",
    "print(data)\n",
    "jieba.set_dictionary('dict.txt.big')\n",
    "stopwords = [line.strip() for line in open(\"stop_words.txt\",encoding=\"utf-8\").readlines()]  \n",
    "\n",
    "size = len(data)\n",
    "\n",
    "new_list = []\n",
    "for i in range(size):\n",
    "    new_list.append([])\n",
    "    \n",
    "for i in range(size):\n",
    "    new_list[i] = jieba.lcut(data[i])\n",
    "\n",
    "#print(new_list)\n",
    "word = []\n",
    "for i in range(size):\n",
    "    word.append([])\n",
    "for i in range(size):\n",
    "    for seg in new_list[i]:\n",
    "        if seg not in stopwords:\n",
    "            if seg == \" \":  \n",
    "                continue  \n",
    "            else:  \n",
    "                word[i].append(seg)\n",
    "\n",
    "print(word)"
   ]
  },
  {
   "cell_type": "code",
   "execution_count": 20,
   "metadata": {},
   "outputs": [],
   "source": [
    "words_count = []\n",
    "for file in word:\n",
    "    count = {}\n",
    "    for w in file:\n",
    "        if w in count:\n",
    "            count[w] += 1\n",
    "        else:\n",
    "            count[w] = 1\n",
    "    words_count.append(count)\n",
    "    \n",
    "#print(words_count)\n",
    "\n",
    "#計算tf\n",
    "words_frequency = []\n",
    "for word_count in words_count:\n",
    "    all_count = sum(word_count.values())\n",
    "    fre = {}\n",
    "    for word,count in word_count.items():\n",
    "        fre[word] = round(count/all_count,4)\n",
    "    words_frequency.append(fre)\n",
    "#print(words_frequency)"
   ]
  },
  {
   "cell_type": "code",
   "execution_count": 22,
   "metadata": {},
   "outputs": [
    {
     "name": "stdout",
     "output_type": "stream",
     "text": [
      "楓葉              5\n",
      "緩緩              4\n",
      "飄落              4\n",
      "思念              4\n",
      "愛               4\n",
      "北風              3\n",
      "想               3\n",
      "傷透              2\n",
      "心               2\n",
      "能不能夠            2\n",
      "愛我              2\n",
      "用力              2\n",
      "牽起              2\n",
      "溫度              2\n",
      "雙手              2\n",
      "過往              2\n",
      "溫柔              2\n",
      "上鎖              2\n",
      "剩揮散             2\n",
      "難過              2\n"
     ]
    }
   ],
   "source": [
    "#idf\n",
    "all_words = []\n",
    "for words in words_count:\n",
    "    all_words.extend(words.keys())\n",
    "    \n",
    "occurrences_of_word = {}\n",
    "for word in all_words:\n",
    "    if word in occurrences_of_word:\n",
    "        occurrences_of_word[word] += 1\n",
    "    else:\n",
    "        occurrences_of_word[word] = 1\n",
    "        \n",
    "#print(sorted(occurrences_of_word.items(), key=lambda x:x[1],reverse=True))\n",
    "items = list(occurrences_of_word.items()) \n",
    "items.sort(key=lambda x:x[1], reverse=True)   \n",
    "        \n",
    "inverse_document_frequency = []     \n",
    "for word_count in words_count:\n",
    "    invFre = {} \n",
    "    for word in word_count.keys():\n",
    "        occurrences = occurrences_of_word[word]\n",
    "        invFre[word] = math.log(round((len(words_count)/occurrences),4))\n",
    "    inverse_document_frequency.append(invFre)\n",
    "    \n",
    "#print(inverse_document_frequency)\n",
    "#print(all_words)"
   ]
  },
  {
   "cell_type": "code",
   "execution_count": 6,
   "metadata": {},
   "outputs": [
    {
     "name": "stdout",
     "output_type": "stream",
     "text": [
      "\t         418202\n",
      "\n",
      "         418202\n",
      "的         317883\n",
      "          294598\n",
      "有         202811\n",
      "?         161740\n",
      "？         160918\n",
      "是         100613\n",
      "沒         93778\n",
      "嗎         89875\n",
      "，         89550\n",
      "八卦        79119\n",
      "了         77440\n",
      "都         64114\n",
      "你         62915\n",
      "人         61440\n",
      "在         58795\n",
      "什麼        57760\n",
      "我         49063\n",
      "就         47754\n",
      "好         42804\n",
      "要         37354\n",
      "不         36863\n",
      "說         36650\n",
      "台灣        35851\n",
      "去         35677\n",
      "會         34672\n",
      "跟         33271\n",
      "怎麼        33196\n",
      "為         30834\n"
     ]
    }
   ],
   "source": [
    "for i in range(30):  \n",
    "    word, count = items[i]  \n",
    "    print (\"{0:<10}{1:>5}\".format(word, count))"
   ]
  },
  {
   "cell_type": "code",
   "execution_count": null,
   "metadata": {},
   "outputs": [],
   "source": []
  }
 ],
 "metadata": {
  "kernelspec": {
   "display_name": "Python 3",
   "language": "python",
   "name": "python3"
  },
  "language_info": {
   "codemirror_mode": {
    "name": "ipython",
    "version": 3
   },
   "file_extension": ".py",
   "mimetype": "text/x-python",
   "name": "python",
   "nbconvert_exporter": "python",
   "pygments_lexer": "ipython3",
   "version": "3.8.3"
  }
 },
 "nbformat": 4,
 "nbformat_minor": 4
}
