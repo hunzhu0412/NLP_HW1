{
 "cells": [
  {
   "cell_type": "code",
   "execution_count": 9,
   "metadata": {},
   "outputs": [],
   "source": [
    "import jieba\n",
    "import jieba.analyse"
   ]
  },
  {
   "cell_type": "code",
   "execution_count": 13,
   "metadata": {},
   "outputs": [
    {
     "name": "stderr",
     "output_type": "stream",
     "text": [
      "IOPub data rate exceeded.\n",
      "The notebook server will temporarily stop sending output\n",
      "to the client in order to avoid crashing it.\n",
      "To change this limit, set the config variable\n",
      "`--NotebookApp.iopub_data_rate_limit`.\n",
      "\n",
      "Current values:\n",
      "NotebookApp.iopub_data_rate_limit=1000000.0 (bytes/sec)\n",
      "NotebookApp.rate_limit_window=3.0 (secs)\n",
      "\n"
     ]
    }
   ],
   "source": [
    "text = open(\"hw1-dataset.txt\", encoding=\"utf-8\",'r').read()  \n",
    "print(jieba.lcut(text))"
   ]
  },
  {
   "cell_type": "code",
   "execution_count": 4,
   "metadata": {},
   "outputs": [],
   "source": [
    "counts = {}  \n",
    "for word in words:  \n",
    "    counts[word] = counts.get(word,0) + 1"
   ]
  },
  {
   "cell_type": "code",
   "execution_count": 5,
   "metadata": {},
   "outputs": [],
   "source": [
    "items = list(counts.items())  \n",
    "items.sort(key=lambda x:x[1], reverse=True)"
   ]
  },
  {
   "cell_type": "code",
   "execution_count": 6,
   "metadata": {},
   "outputs": [
    {
     "name": "stdout",
     "output_type": "stream",
     "text": [
      "\t         418202\n",
      "\n",
      "         418202\n",
      "的         317883\n",
      "          294598\n",
      "有         202811\n",
      "?         161740\n",
      "？         160918\n",
      "是         100613\n",
      "沒         93778\n",
      "嗎         89875\n",
      "，         89550\n",
      "八卦        79119\n",
      "了         77440\n",
      "都         64114\n",
      "你         62915\n",
      "人         61440\n",
      "在         58795\n",
      "什麼        57760\n",
      "我         49063\n",
      "就         47754\n",
      "好         42804\n",
      "要         37354\n",
      "不         36863\n",
      "說         36650\n",
      "台灣        35851\n",
      "去         35677\n",
      "會         34672\n",
      "跟         33271\n",
      "怎麼        33196\n",
      "為         30834\n"
     ]
    }
   ],
   "source": [
    "for i in range(30):  \n",
    "    word, count = items[i]  \n",
    "    print (\"{0:<10}{1:>5}\".format(word, count))"
   ]
  },
  {
   "cell_type": "code",
   "execution_count": null,
   "metadata": {},
   "outputs": [],
   "source": []
  }
 ],
 "metadata": {
  "kernelspec": {
   "display_name": "Python 3",
   "language": "python",
   "name": "python3"
  },
  "language_info": {
   "codemirror_mode": {
    "name": "ipython",
    "version": 3
   },
   "file_extension": ".py",
   "mimetype": "text/x-python",
   "name": "python",
   "nbconvert_exporter": "python",
   "pygments_lexer": "ipython3",
   "version": "3.8.3"
  }
 },
 "nbformat": 4,
 "nbformat_minor": 4
}
